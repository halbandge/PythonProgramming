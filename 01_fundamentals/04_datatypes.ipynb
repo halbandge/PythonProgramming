{
 "cells": [
  {
   "cell_type": "markdown",
   "id": "21a71cc3",
   "metadata": {},
   "source": [
    "## Datatypes"
   ]
  },
  {
   "cell_type": "markdown",
   "id": "83727bfe",
   "metadata": {},
   "source": [
    "- Numeric Data Types\n",
    "    - int\n",
    "    - float\n",
    "    - complex\n",
    "- String Data Types\n",
    "- Sequence Data Types\n",
    "    - list\n",
    "    - tuple\n",
    "    - range\n",
    "- Binary Data Types\n",
    "    - bytes\n",
    "    - bytearray\n",
    "    - memoryview\n",
    "- Dictionary Data Type\n",
    "- Set Data Type\n",
    "    - set\n",
    "    - frozenset\n",
    "- Boolean Data Type\n",
    "- None Type"
   ]
  },
  {
   "cell_type": "markdown",
   "id": "9e81b742",
   "metadata": {},
   "source": [
    "## Numeric Data types"
   ]
  },
  {
   "cell_type": "code",
   "execution_count": 2,
   "id": "0cb9c82a",
   "metadata": {},
   "outputs": [
    {
     "name": "stdout",
     "output_type": "stream",
     "text": [
      "<class 'int'>\n",
      "<class 'bool'>\n",
      "<class 'float'>\n",
      "<class 'complex'>\n"
     ]
    }
   ],
   "source": [
    "var1 = 1       # int data type\n",
    "var2 = True    # bool data type\n",
    "var3 = 10.023  # float data type\n",
    "var4 = 10+3j   # complex data type\n",
    "\n",
    "# to check the type of variables we stored\n",
    "print(type(var1))\n",
    "print(type(var2))\n",
    "print(type(var3))\n",
    "print(type(var4))"
   ]
  },
  {
   "cell_type": "code",
   "execution_count": 3,
   "id": "28117f87",
   "metadata": {},
   "outputs": [
    {
     "name": "stdout",
     "output_type": "stream",
     "text": [
      "The type of variable having value 100  is  <class 'int'>\n",
      "The type of variable having value 20.345  is  <class 'float'>\n",
      "The type of variable having value (10+3j)  is  <class 'complex'>\n"
     ]
    }
   ],
   "source": [
    "# integer variable.\n",
    "a=100\n",
    "print(\"The type of variable having value\", a, \" is \", type(a))\n",
    "\n",
    "# float variable.\n",
    "c=20.345\n",
    "print(\"The type of variable having value\", c, \" is \", type(c))\n",
    "\n",
    "# complex variable.\n",
    "d=10+3j\n",
    "print(\"The type of variable having value\", d, \" is \", type(d))"
   ]
  },
  {
   "cell_type": "code",
   "execution_count": 25,
   "id": "d56740ba",
   "metadata": {},
   "outputs": [
    {
     "name": "stdout",
     "output_type": "stream",
     "text": [
      "(34+17j)\n",
      "<class 'complex'>\n",
      "34.0\n",
      "17.0\n"
     ]
    }
   ],
   "source": [
    "# complex number \n",
    "c = 34 + 17j # it is written in the form of a + bi where a is real number and b is an imaginary number\n",
    "\n",
    "print(c)\n",
    "print(type(c))\n",
    "print(c.real) # to get the real number\n",
    "print(c.imag) # to get the imaginary number"
   ]
  },
  {
   "cell_type": "markdown",
   "id": "20ece68b",
   "metadata": {},
   "source": [
    "## String "
   ]
  },
  {
   "cell_type": "code",
   "execution_count": 22,
   "id": "ba9d9b1e",
   "metadata": {},
   "outputs": [],
   "source": [
    "# Python string is a sequence of one or more Unicode characters, enclosed in single, double or triple quotation marks (also called inverted commas). \n",
    "# Python strings are immutable which means when you perform an operation on strings, \n",
    "# you always produce a new string object of the same type, rather than mutating an existing string.\n",
    "\n",
    "# As long as the same sequence of characters is enclosed, single or double or triple quotes don't matter. \n",
    "# Hence, following string representations are equivalent."
   ]
  },
  {
   "cell_type": "code",
   "execution_count": 4,
   "id": "c28ecf0d",
   "metadata": {},
   "outputs": [
    {
     "name": "stdout",
     "output_type": "stream",
     "text": [
      "Python\n",
      "Python\n",
      "Python\n",
      "<class 'str'>\n",
      "<class 'str'>\n",
      "<class 'str'>\n"
     ]
    }
   ],
   "source": [
    "s = \"Python\"\n",
    "s1 = 'Python'\n",
    "s2 = \"\"\"Python\"\"\"\n",
    "\n",
    "print(s)\n",
    "print(s1)\n",
    "print(s2)\n",
    "\n",
    "print(type(s))\n",
    "print(type(s1))\n",
    "print(type(s2))"
   ]
  },
  {
   "cell_type": "markdown",
   "id": "c8e50486",
   "metadata": {},
   "source": [
    "## Sequence Data types"
   ]
  },
  {
   "cell_type": "markdown",
   "id": "146a46da",
   "metadata": {},
   "source": [
    "### List"
   ]
  },
  {
   "cell_type": "code",
   "execution_count": 23,
   "id": "bd9c5897",
   "metadata": {},
   "outputs": [],
   "source": [
    "# Python Lists are the most versatile compound data types. \n",
    "# A Python list contains items separated by commas and enclosed within square brackets ([]). \n",
    "# To some extent, Python lists are similar to arrays in C. \n",
    "\n",
    "# One difference between them is that all the items belonging to a Python list can be of different data type \n",
    "# where as C array can store elements related to a particular data type."
   ]
  },
  {
   "cell_type": "code",
   "execution_count": 6,
   "id": "efad0ce9",
   "metadata": {},
   "outputs": [
    {
     "name": "stdout",
     "output_type": "stream",
     "text": [
      "[2023, 'Python', 3.11, (5+6j), 0.000123]\n",
      "<class 'list'>\n",
      "[['One', 'Two', 'Three'], [1, 2, 3], [1.0, 2.0, 3.0]]\n",
      "<class 'list'>\n"
     ]
    }
   ],
   "source": [
    "# List type\n",
    "\n",
    "l = [2023, \"Python\", 3.11, 5+6j, 1.23E-4]\n",
    "print(l)\n",
    "print(type(l))\n",
    "\n",
    "# we can store list inside a list as well\n",
    "l1 = [['One', 'Two', 'Three'], [1,2,3], [1.0, 2.0, 3.0]]\n",
    "print(l1)\n",
    "print(type(l1))"
   ]
  },
  {
   "cell_type": "markdown",
   "id": "ef6fab35",
   "metadata": {},
   "source": [
    "### Tuple"
   ]
  },
  {
   "cell_type": "code",
   "execution_count": 24,
   "id": "89ecb2e4",
   "metadata": {},
   "outputs": [],
   "source": [
    "# Python tuple is another sequence data type that is similar to a list. \n",
    "# A Python tuple consists of a number of values separated by commas. \n",
    "# Unlike lists, however, tuples are enclosed within parentheses (...).\n",
    "\n",
    "# A tuple is also a sequence, hence each item in the tuple has an index referring to its position in the collection.\n",
    "# The index starts from 0."
   ]
  },
  {
   "cell_type": "code",
   "execution_count": 7,
   "id": "20f10b02",
   "metadata": {},
   "outputs": [
    {
     "name": "stdout",
     "output_type": "stream",
     "text": [
      "(2023, 'Python', 3.11, (5+6j), 0.000123)\n",
      "<class 'tuple'>\n",
      "(['One', 'Two', 'Three'], 1, 2.0, 3, (1.0, 2.0, 3.0))\n",
      "<class 'tuple'>\n"
     ]
    }
   ],
   "source": [
    "# tuple data type\n",
    "t = (2023, \"Python\", 3.11, 5+6j, 1.23E-4)\n",
    "print(t)\n",
    "print(type(t))\n",
    "\n",
    "# we can store list as well as tuple inside a tuple\n",
    "t1 = (['One', 'Two', 'Three'], 1,2.0,3, (1.0, 2.0, 3.0))\n",
    "print(t1)\n",
    "print(type(t1))"
   ]
  },
  {
   "cell_type": "markdown",
   "id": "3fe78256",
   "metadata": {},
   "source": [
    "### Range"
   ]
  },
  {
   "cell_type": "code",
   "execution_count": 12,
   "id": "b145adbf",
   "metadata": {},
   "outputs": [
    {
     "name": "stdout",
     "output_type": "stream",
     "text": [
      "[0, 1, 2, 3, 4]\n",
      "[2, 3, 4]\n",
      "[1, 3]\n"
     ]
    }
   ],
   "source": [
    "# range data type\n",
    "\n",
    "#The constructor of this class accepts a sequence of numbers starting from 0 and \n",
    "#increments to 1 until it reaches a specified number.\n",
    "\n",
    "\n",
    "# Syntax: range(start, stop, step)\n",
    "\n",
    "\n",
    "\n",
    "# start: Integer number to specify starting position, (Its optional, Default: 0)\n",
    "# stop: Integer number to specify ending position (It's mandatory)\n",
    "# step: Integer number to specify increment, (Its optional, Default: 1)\n",
    "\n",
    "print(list(range(5)))\n",
    "print(list(range(2, 5)))\n",
    "print(list(range(1, 5, 2)))"
   ]
  },
  {
   "cell_type": "markdown",
   "id": "739a487a",
   "metadata": {},
   "source": [
    "## Dictionary Data type"
   ]
  },
  {
   "cell_type": "code",
   "execution_count": 14,
   "id": "0de56ad3",
   "metadata": {},
   "outputs": [
    {
     "name": "stdout",
     "output_type": "stream",
     "text": [
      "{1: 'one', 2: 'two', 3: 'three'}\n",
      "<class 'dict'>\n",
      "This is one\n",
      "This is two\n",
      "{'name': 'john', 'code': 6734, 'dept': 'sales'}\n",
      "dict_keys(['name', 'code', 'dept'])\n",
      "dict_values(['john', 6734, 'sales'])\n"
     ]
    }
   ],
   "source": [
    "# Python dictionary is like associative arrays or hashes found in Perl and consist of key:value pairs. \n",
    "# The pairs are separated by comma and put inside curly brackets {}. \n",
    "# To establish mapping between key and value, the semicolon':' symbol is put between the two.\n",
    "\n",
    "d = {1:'one', 2:'two', 3:'three'}\n",
    "print(d)\n",
    "print(type(d))\n",
    "\n",
    "# some dictionary examples\n",
    "dict = {}\n",
    "dict['one'] = \"This is one\"\n",
    "dict[2]     = \"This is two\"\n",
    "\n",
    "tinydict = {'name': 'john','code':6734, 'dept': 'sales'}\n",
    "\n",
    "\n",
    "print (dict['one'])       # Prints value for 'one' key\n",
    "print (dict[2])           # Prints value for 2 key\n",
    "print (tinydict)          # Prints complete dictionary\n",
    "print (tinydict.keys())   # Prints all the keys\n",
    "print (tinydict.values()) # Prints all the values"
   ]
  },
  {
   "cell_type": "markdown",
   "id": "88f06253",
   "metadata": {},
   "source": [
    "## Set Data type"
   ]
  },
  {
   "cell_type": "code",
   "execution_count": 16,
   "id": "3e7e7065",
   "metadata": {},
   "outputs": [],
   "source": [
    "# Set is a Python implementation of set as defined in Mathematics. \n",
    "# A set in Python is a collection, but is not an indexed or ordered collection as string, list or tuple. \n",
    "# An object cannot appear more than once in a set, whereas in List and Tuple, same object can appear more than once.\n",
    "\n",
    "# Comma separated items in a set are put inside curly brackets or braces {}. \n",
    "# Items in the set collection can be of different data types."
   ]
  },
  {
   "cell_type": "code",
   "execution_count": 15,
   "id": "6cefd5b4",
   "metadata": {},
   "outputs": [
    {
     "name": "stdout",
     "output_type": "stream",
     "text": [
      "{(5+6j), 3.11, 0.000123, 'Python', 2023}\n",
      "<class 'set'>\n"
     ]
    }
   ],
   "source": [
    "s = {2023, \"Python\", 3.11, 5+6j, 1.23E-4}\n",
    "print(s)\n",
    "print(type(s))"
   ]
  },
  {
   "cell_type": "code",
   "execution_count": 17,
   "id": "33fad629",
   "metadata": {},
   "outputs": [
    {
     "ename": "TypeError",
     "evalue": "unhashable type: 'list'",
     "output_type": "error",
     "traceback": [
      "\u001b[0;31m---------------------------------------------------------------------------\u001b[0m",
      "\u001b[0;31mTypeError\u001b[0m                                 Traceback (most recent call last)",
      "Cell \u001b[0;32mIn[17], line 4\u001b[0m\n\u001b[1;32m      1\u001b[0m \u001b[38;5;66;03m# A set can store only immutable objects such as number (int, float, complex or bool), string or tuple. \u001b[39;00m\n\u001b[1;32m      2\u001b[0m \u001b[38;5;66;03m# If you try to put a list or a dictionary in the set collection, Python raises a TypeError.\u001b[39;00m\n\u001b[0;32m----> 4\u001b[0m s1 \u001b[38;5;241m=\u001b[39m {[\u001b[38;5;124m'\u001b[39m\u001b[38;5;124mOne\u001b[39m\u001b[38;5;124m'\u001b[39m, \u001b[38;5;124m'\u001b[39m\u001b[38;5;124mTwo\u001b[39m\u001b[38;5;124m'\u001b[39m, \u001b[38;5;124m'\u001b[39m\u001b[38;5;124mThree\u001b[39m\u001b[38;5;124m'\u001b[39m], \u001b[38;5;241m1\u001b[39m,\u001b[38;5;241m2\u001b[39m,\u001b[38;5;241m3\u001b[39m, (\u001b[38;5;241m1.0\u001b[39m, \u001b[38;5;241m2.0\u001b[39m, \u001b[38;5;241m3.0\u001b[39m)}\n\u001b[1;32m      5\u001b[0m \u001b[38;5;28mprint\u001b[39m(s1)\n",
      "\u001b[0;31mTypeError\u001b[0m: unhashable type: 'list'"
     ]
    }
   ],
   "source": [
    "# A set can store only immutable objects such as number (int, float, complex or bool), string or tuple. \n",
    "# If you try to put a list or a dictionary in the set collection, Python raises a TypeError.\n",
    "\n",
    "s1 = {['One', 'Two', 'Three'], 1,2,3, (1.0, 2.0, 3.0)}\n",
    "print(s1)"
   ]
  },
  {
   "cell_type": "markdown",
   "id": "4d006a82",
   "metadata": {},
   "source": [
    "## Boolean Data type"
   ]
  },
  {
   "cell_type": "code",
   "execution_count": 20,
   "id": "9253cb80",
   "metadata": {},
   "outputs": [
    {
     "name": "stdout",
     "output_type": "stream",
     "text": [
      "<class 'bool'>\n",
      "<class 'bool'>\n"
     ]
    }
   ],
   "source": [
    "# Python boolean type is one of built-in data types which represents one of the two values either True or False. \n",
    "# Python bool() function allows you to evaluate the value of any expression \n",
    "# and returns either True or False based on the expression.\n",
    "\n",
    "# A Boolean number has only two possible values, as represented by the keywords, True and False. \n",
    "# They correspond to integer 1 and 0 respectively.\n",
    "\n",
    "print(type(True))\n",
    "print(type(False))"
   ]
  },
  {
   "cell_type": "markdown",
   "id": "141fa495",
   "metadata": {},
   "source": [
    "## None Type"
   ]
  },
  {
   "cell_type": "code",
   "execution_count": 21,
   "id": "2f579783",
   "metadata": {},
   "outputs": [
    {
     "name": "stdout",
     "output_type": "stream",
     "text": [
      "x =  None\n",
      "type of x =  <class 'NoneType'>\n"
     ]
    }
   ],
   "source": [
    "# Python's none type is represented by the \"nonetype.\" It is an object of its own data type. \n",
    "# The nonetype represents the null type of values or absence of a value.\n",
    "\n",
    "# Example of None Type\n",
    "# In the following example, we are assigning None to a variable x and printing its type, which will be nonetyoe −\n",
    "\n",
    "# Declaring a variable\n",
    "# And, assigning a Null value (None)\n",
    "\n",
    "x = None\n",
    "\n",
    "# Printing its value and type\n",
    "print(\"x = \", x)\n",
    "print(\"type of x = \", type(x))"
   ]
  }
 ],
 "metadata": {
  "kernelspec": {
   "display_name": "Python 3",
   "language": "python",
   "name": "python3"
  },
  "language_info": {
   "codemirror_mode": {
    "name": "ipython",
    "version": 3
   },
   "file_extension": ".py",
   "mimetype": "text/x-python",
   "name": "python",
   "nbconvert_exporter": "python",
   "pygments_lexer": "ipython3",
   "version": "3.9.6"
  }
 },
 "nbformat": 4,
 "nbformat_minor": 5
}
