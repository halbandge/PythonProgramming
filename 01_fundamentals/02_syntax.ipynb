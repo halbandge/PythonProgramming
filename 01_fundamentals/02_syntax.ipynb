{
 "cells": [
  {
   "cell_type": "markdown",
   "id": "e5cab866",
   "metadata": {},
   "source": [
    "## Python Identifiers\n",
    "\n",
    "A Python identifier is a name used to identify a variable, function, class, module or other object. An identifier starts with a letter A to Z or a to z or an underscore (_) followed by zero or more letters, underscores and digits (0 to 9).\n",
    "\n",
    "Python does not allow punctuation characters such as &commat;, $, and % within identifiers.\n",
    "\n",
    "***Python is a case sensitive programming language. Thus, Manpower and manpower are two different identifiers in Python.***\n",
    "\n",
    "Here are naming conventions for Python identifiers −\n",
    "\n",
    "- Python Class names start with an uppercase letter. All other identifiers start with a lowercase letter.\n",
    "\n",
    "- Starting an identifier with a single leading underscore indicates that the identifier is private identifier.\n",
    "\n",
    "- Starting an identifier with two leading underscores indicates a strongly private identifier.\n",
    "\n",
    "- If the identifier also ends with two trailing underscores, the identifier is a language-defined special name.\n"
   ]
  },
  {
   "cell_type": "markdown",
   "id": "c33560da",
   "metadata": {},
   "source": [
    "## Python Reserved words\n",
    "\n",
    "The following list shows the Python keywords. These are reserved words and you cannot use them as constant or variable or any other identifier names. All the Python keywords contain lowercase letters only.\n"
   ]
  },
  {
   "cell_type": "code",
   "execution_count": null,
   "id": "36066765",
   "metadata": {},
   "outputs": [
    {
     "name": "stdout",
     "output_type": "stream",
     "text": [
      "['False', 'None', 'True', '__peg_parser__', 'and', 'as', 'assert', 'async', 'await', 'break', 'class', 'continue', 'def', 'del', 'elif', 'else', 'except', 'finally', 'for', 'from', 'global', 'if', 'import', 'in', 'is', 'lambda', 'nonlocal', 'not', 'or', 'pass', 'raise', 'return', 'try', 'while', 'with', 'yield']\n",
      "36\n"
     ]
    }
   ],
   "source": [
    "import keyword\n",
    "print(list(keyword.kwlist))\n",
    "print(len(keyword.kwlist)) # There are 36 keywords in python"
   ]
  },
  {
   "cell_type": "markdown",
   "id": "a0f6776b",
   "metadata": {},
   "source": [
    "## Python Multi-Line Statements\n",
    "\n",
    "Statements in Python typically end with a new line. Python does, however, allow the use of the line continuation character (\\) to denote that the line should continue. For example −"
   ]
  },
  {
   "cell_type": "code",
   "execution_count": 5,
   "id": "7640db15",
   "metadata": {},
   "outputs": [
    {
     "name": "stdout",
     "output_type": "stream",
     "text": [
      "22\n"
     ]
    }
   ],
   "source": [
    "item_one = 4\n",
    "item_two = 7\n",
    "item_three = 11\n",
    "\n",
    "total = item_one + \\\n",
    "        item_two + \\\n",
    "        item_three\n",
    "\n",
    "print(total)"
   ]
  },
  {
   "cell_type": "markdown",
   "id": "94b7fe22",
   "metadata": {},
   "source": [
    "Statements contained within the [], {}, or () brackets do not need to use the line continuation character. For example following statement works well in Python −"
   ]
  },
  {
   "cell_type": "code",
   "execution_count": 6,
   "id": "89a0ecde",
   "metadata": {},
   "outputs": [],
   "source": [
    "days = ['Monday', 'Tuesday', 'Wednesday',\n",
    "        'Thursday', 'Friday']"
   ]
  },
  {
   "cell_type": "markdown",
   "id": "c138390f",
   "metadata": {},
   "source": [
    "## Quotations in Python\n",
    "\n",
    "Python accepts single ('), double (\") and triple (''' or \"\"\") quotes to denote string literals, as long as the same type of quote starts and ends the string.\n",
    "\n",
    "The triple quotes are used to span the string across multiple lines. For example, all the following are legal −"
   ]
  },
  {
   "cell_type": "code",
   "execution_count": 7,
   "id": "8624a79a",
   "metadata": {},
   "outputs": [
    {
     "name": "stdout",
     "output_type": "stream",
     "text": [
      "word\n",
      "This is a sentence.\n",
      "This is a paragraph. It is\n",
      " made up of multiple lines and sentences.\n"
     ]
    }
   ],
   "source": [
    "word = 'word'\n",
    "print (word)\n",
    "\n",
    "sentence = \"This is a sentence.\"\n",
    "print (sentence)\n",
    "\n",
    "paragraph = \"\"\"This is a paragraph. It is\n",
    " made up of multiple lines and sentences.\"\"\"\n",
    "print (paragraph)"
   ]
  },
  {
   "cell_type": "markdown",
   "id": "2016c43a",
   "metadata": {},
   "source": [
    "## Comments in Python\n",
    "\n",
    "A comment is a programmer-readable explanation or annotation in the Python source code. They are added with the purpose of making the source code easier for humans to understand, and are ignored by Python interpreter\n",
    "\n",
    "Just like most modern languages, Python supports single-line (or end-of-line) and multi-line (block) comments. Python comments are very much similar to the comments available in PHP, BASH and Perl Programming languages.\n",
    "\n",
    "A hash sign (#) that is not inside a string literal begins a comment. All characters after the # and up to the end of the physical line are part of the comment and the Python interpreter ignores them."
   ]
  },
  {
   "cell_type": "code",
   "execution_count": 8,
   "id": "9b1c723b",
   "metadata": {},
   "outputs": [
    {
     "name": "stdout",
     "output_type": "stream",
     "text": [
      "Hello, World!\n"
     ]
    }
   ],
   "source": [
    "# First comment\n",
    "print (\"Hello, World!\") # Second comment"
   ]
  },
  {
   "cell_type": "markdown",
   "id": "c0fe26b6",
   "metadata": {},
   "source": [
    "You can type a comment on the same line after a statement or expression −"
   ]
  },
  {
   "cell_type": "code",
   "execution_count": 9,
   "id": "80669b1d",
   "metadata": {},
   "outputs": [],
   "source": [
    "name = \"Madisetti\" # This is again comment"
   ]
  },
  {
   "cell_type": "markdown",
   "id": "2301db8e",
   "metadata": {},
   "source": [
    "You can comment multiple lines as follows −"
   ]
  },
  {
   "cell_type": "code",
   "execution_count": 10,
   "id": "5738f9d6",
   "metadata": {},
   "outputs": [],
   "source": [
    "# This is a comment.\n",
    "# This is a comment, too.\n",
    "# This is a comment, too.\n",
    "# I said that already."
   ]
  },
  {
   "cell_type": "markdown",
   "id": "1ed81803",
   "metadata": {},
   "source": [
    "Following triple-quoted string is also ignored by Python interpreter and can be used as a multiline comments:"
   ]
  },
  {
   "cell_type": "code",
   "execution_count": 11,
   "id": "db5b45d3",
   "metadata": {},
   "outputs": [
    {
     "data": {
      "text/plain": [
       "'\\nThis is a multiline\\ncomment.\\n'"
      ]
     },
     "execution_count": 11,
     "metadata": {},
     "output_type": "execute_result"
    }
   ],
   "source": [
    "'''\n",
    "This is a multiline\n",
    "comment.\n",
    "'''"
   ]
  }
 ],
 "metadata": {
  "kernelspec": {
   "display_name": "Python 3",
   "language": "python",
   "name": "python3"
  },
  "language_info": {
   "codemirror_mode": {
    "name": "ipython",
    "version": 3
   },
   "file_extension": ".py",
   "mimetype": "text/x-python",
   "name": "python",
   "nbconvert_exporter": "python",
   "pygments_lexer": "ipython3",
   "version": "3.9.6"
  }
 },
 "nbformat": 4,
 "nbformat_minor": 5
}
