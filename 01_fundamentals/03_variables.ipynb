{
 "cells": [
  {
   "cell_type": "markdown",
   "id": "8be41e94",
   "metadata": {},
   "source": [
    "## Python Variables\n",
    "\n",
    "Python variables are the reserved memory locations used to store values with in a Python Program. This means that when you create a variable you reserve some space in the memory.\n",
    "\n",
    "Based on the data type of a variable, memory space is allocated to it. Therefore, by assigning different data types to Python variables, you can store integers, decimals or characters in these variables."
   ]
  },
  {
   "cell_type": "markdown",
   "id": "4c609c1c",
   "metadata": {},
   "source": [
    "## Creating Python Variables\n",
    "\n",
    "Python variables do not need explicit declaration to reserve memory space or you can say to create a variable. A Python variable is created automatically when you assign a value to it. The equal sign (=) is used to assign values to variables.\n",
    "\n",
    "The operand to the left of the = operator is the name of the variable and the operand to the right of the = operator is the value stored in the variable. For example −\n",
    "\n",
    "Example to Create Python Variables\n",
    "This example creates different types (an integer, a float, and a string) of variables."
   ]
  },
  {
   "cell_type": "code",
   "execution_count": 1,
   "id": "e2cd0d12",
   "metadata": {},
   "outputs": [],
   "source": [
    "counter = 100          # Creates an integer variable\n",
    "miles   = 1000.0       # Creates a floating point variable\n",
    "name    = \"Zara Ali\"   # Creates a string variable"
   ]
  },
  {
   "cell_type": "markdown",
   "id": "38d491ba",
   "metadata": {},
   "source": [
    "## Printing Python Variables\n",
    "Once we create a Python variable and assign a value to it, we can print it using print() function. Following is the extension of previous example and shows how to print different variables in Python:\n",
    "\n",
    "Example to Print Python Variables\n",
    "This example prints variables."
   ]
  },
  {
   "cell_type": "code",
   "execution_count": 2,
   "id": "1756f6c6",
   "metadata": {},
   "outputs": [
    {
     "name": "stdout",
     "output_type": "stream",
     "text": [
      "100\n",
      "1000.0\n",
      "Zara Ali\n"
     ]
    }
   ],
   "source": [
    "counter = 100          # Creates an integer variable\n",
    "miles   = 1000.0       # Creates a floating point variable\n",
    "name    = \"Zara Ali\"   # Creates a string variable\n",
    "\n",
    "print (counter)\n",
    "print (miles)\n",
    "print (name)"
   ]
  },
  {
   "cell_type": "markdown",
   "id": "a2499ed7",
   "metadata": {},
   "source": [
    "Here, 100, 1000.0 and \"Zara Ali\" are the values assigned to counter, miles, and name variables, respectively. When running the above Python program, this produces the following result −"
   ]
  },
  {
   "cell_type": "markdown",
   "id": "ace0afa9",
   "metadata": {},
   "source": [
    "100 \\\n",
    "1000.0 \\\n",
    "Zara Ali"
   ]
  },
  {
   "cell_type": "markdown",
   "id": "a0fbad51",
   "metadata": {},
   "source": [
    "## Deleting Python Variables\n",
    "\n",
    "You can delete the reference to a number object by using the del statement. The syntax of the del statement is −\n",
    "\n",
    "del var1[,var2[,var3[....,varN]]]\n",
    "\n",
    "You can delete a single object or multiple objects by using the del statement. For example −"
   ]
  },
  {
   "cell_type": "code",
   "execution_count": 5,
   "id": "c1c22c8d",
   "metadata": {},
   "outputs": [
    {
     "name": "stdout",
     "output_type": "stream",
     "text": [
      "random text\n",
      "1123\n",
      "432.423\n"
     ]
    },
    {
     "ename": "NameError",
     "evalue": "name 'var' is not defined",
     "output_type": "error",
     "traceback": [
      "\u001b[0;31m---------------------------------------------------------------------------\u001b[0m",
      "\u001b[0;31mNameError\u001b[0m                                 Traceback (most recent call last)",
      "Cell \u001b[0;32mIn[5], line 12\u001b[0m\n\u001b[1;32m      9\u001b[0m \u001b[38;5;28;01mdel\u001b[39;00m var\n\u001b[1;32m     10\u001b[0m \u001b[38;5;28;01mdel\u001b[39;00m var_a, var_b\n\u001b[0;32m---> 12\u001b[0m \u001b[38;5;28mprint\u001b[39m(\u001b[43mvar\u001b[49m)\n",
      "\u001b[0;31mNameError\u001b[0m: name 'var' is not defined"
     ]
    }
   ],
   "source": [
    "var = \"random text\"\n",
    "var_a = 1123\n",
    "var_b = 432.423\n",
    "\n",
    "print(var)\n",
    "print(var_a)\n",
    "print(var_b)\n",
    "\n",
    "del var\n",
    "del var_a, var_b\n",
    "\n",
    "print(var)"
   ]
  },
  {
   "cell_type": "markdown",
   "id": "bd358943",
   "metadata": {},
   "source": [
    "## Getting Type of a Variable\n",
    "\n",
    "You can get the data type of a Python variable using the python built-in function type() as follows.\n",
    "\n",
    "Example: Printing Variables Type\n"
   ]
  },
  {
   "cell_type": "code",
   "execution_count": 6,
   "id": "16cab92e",
   "metadata": {},
   "outputs": [
    {
     "name": "stdout",
     "output_type": "stream",
     "text": [
      "<class 'str'>\n",
      "<class 'int'>\n",
      "<class 'float'>\n"
     ]
    }
   ],
   "source": [
    "x = \"Zara\"\n",
    "y =  10\n",
    "z =  10.10\n",
    "\n",
    "print(type(x))\n",
    "print(type(y))\n",
    "print(type(z))"
   ]
  },
  {
   "cell_type": "markdown",
   "id": "55a753f9",
   "metadata": {},
   "source": [
    "## Casting Python Variables\n",
    "\n",
    "You can specify the data type of a variable with the help of casting as follows:\n",
    "\n",
    "Example\n",
    "This example demonstrates case sensitivity of variables."
   ]
  },
  {
   "cell_type": "code",
   "execution_count": 7,
   "id": "49152117",
   "metadata": {},
   "outputs": [
    {
     "name": "stdout",
     "output_type": "stream",
     "text": [
      "x = 10\n",
      "y = 10\n",
      "z = 10.0\n"
     ]
    }
   ],
   "source": [
    "x = str(10)    # x will be '10'\n",
    "y = int(10)    # y will be 10 \n",
    "z = float(10)  # z will be 10.0\n",
    "\n",
    "print( \"x =\", x )\n",
    "print( \"y =\", y )\n",
    "print( \"z =\", z )"
   ]
  },
  {
   "cell_type": "markdown",
   "id": "fab0161c",
   "metadata": {},
   "source": [
    "## Case-Sensitivity of Python Variables\n",
    "\n",
    "Python variables are case sensitive which means Age and age are two different variables:"
   ]
  },
  {
   "cell_type": "code",
   "execution_count": 8,
   "id": "37cc6fa1",
   "metadata": {},
   "outputs": [
    {
     "name": "stdout",
     "output_type": "stream",
     "text": [
      "age = 20\n",
      "Age = 30\n"
     ]
    }
   ],
   "source": [
    "age = 20\n",
    "Age = 30\n",
    "\n",
    "print( \"age =\", age )\n",
    "print( \"Age =\", Age )"
   ]
  },
  {
   "cell_type": "markdown",
   "id": "f3ffee98",
   "metadata": {},
   "source": [
    "## Python Variables - Multiple Assignment\n",
    "\n",
    "Python allows to initialize more than one variables in a single statement. In the following case, three variables have same value.\n"
   ]
  },
  {
   "cell_type": "code",
   "execution_count": 11,
   "id": "58958125",
   "metadata": {},
   "outputs": [
    {
     "name": "stdout",
     "output_type": "stream",
     "text": [
      "10 10 10\n"
     ]
    }
   ],
   "source": [
    "a = 10\n",
    "b = 10\n",
    "c = 10\n",
    "\n",
    "print(a, b, c)"
   ]
  },
  {
   "cell_type": "code",
   "execution_count": 10,
   "id": "7f253bb2",
   "metadata": {},
   "outputs": [
    {
     "name": "stdout",
     "output_type": "stream",
     "text": [
      "10 10 10\n"
     ]
    }
   ],
   "source": [
    "# Instead of separate assignments, you can do it in a single assignment statement as follows −\n",
    "\n",
    "a = b = c = 10\n",
    "print(a, b, c)"
   ]
  },
  {
   "cell_type": "code",
   "execution_count": 12,
   "id": "b779a2a8",
   "metadata": {},
   "outputs": [
    {
     "name": "stdout",
     "output_type": "stream",
     "text": [
      "10 20 30\n"
     ]
    }
   ],
   "source": [
    "# These separate assignment statements can be combined in one. \n",
    "# You need to give comma separated variable names on left, \n",
    "# and comma separated values on the right of = operator.\n",
    "\n",
    "a = 10\n",
    "b = 20\n",
    "c = 30\n",
    "\n",
    "print(a, b, c)"
   ]
  },
  {
   "cell_type": "code",
   "execution_count": 13,
   "id": "5d0ace30",
   "metadata": {},
   "outputs": [
    {
     "name": "stdout",
     "output_type": "stream",
     "text": [
      "10 20 30\n"
     ]
    }
   ],
   "source": [
    "a, b, c = 10, 20, 30\n",
    "print(a, b, c)"
   ]
  },
  {
   "cell_type": "markdown",
   "id": "c3596ab4",
   "metadata": {},
   "source": [
    "## Python Variables - Naming Convention\n",
    "\n",
    "Every Python variable should have a unique name like a, b, c. A variable name can be meaningful like color, age, name etc. There are certain rules which should be taken care while naming a Python variable:\n",
    "\n",
    "- A variable name must start with a letter or the underscore character\n",
    "- A variable name cannot start with a number or any special character like $, (, * % etc.\n",
    "- A variable name can only contain alpha-numeric characters and underscores (A-z, 0-9, and _ )\n",
    "- Python variable names are case-sensitive which means Name and NAME are two different variables in Python.\n",
    "- Python reserved keywords cannot be used naming the variable.\n",
    "\n",
    "If the name of variable contains multiple words, we should use these naming patterns −\n",
    "\n",
    "- Camel case − First letter is a lowercase, but first letter of each subsequent word is in uppercase. For example: kmPerHour, pricePerLitre\n",
    "\n",
    "- Pascal case − First letter of each word is in uppercase. For example: KmPerHour, PricePerLitre\n",
    "\n",
    "- Snake case − Use single underscore (_) character to separate words. For example: km_per_hour, price_per_litre"
   ]
  },
  {
   "cell_type": "code",
   "execution_count": 14,
   "id": "919fa7ad",
   "metadata": {},
   "outputs": [
    {
     "name": "stdout",
     "output_type": "stream",
     "text": [
      "100\n",
      "100\n",
      "Zara\n",
      "Nuha\n",
      "20\n",
      "100000\n"
     ]
    }
   ],
   "source": [
    "# valid python variables\n",
    "\n",
    "counter = 100\n",
    "_count  = 100\n",
    "name1 = \"Zara\"\n",
    "name2 = \"Nuha\"\n",
    "Age  = 20\n",
    "zara_salary = 100000\n",
    "\n",
    "print (counter)\n",
    "print (_count)\n",
    "print (name1)\n",
    "print (name2)\n",
    "print (Age)\n",
    "print (zara_salary)"
   ]
  },
  {
   "cell_type": "code",
   "execution_count": 15,
   "id": "504acb56",
   "metadata": {},
   "outputs": [
    {
     "ename": "SyntaxError",
     "evalue": "invalid syntax (1782696179.py, line 3)",
     "output_type": "error",
     "traceback": [
      "\u001b[0;36m  Cell \u001b[0;32mIn[15], line 3\u001b[0;36m\u001b[0m\n\u001b[0;31m    1counter = 100\u001b[0m\n\u001b[0m     ^\u001b[0m\n\u001b[0;31mSyntaxError\u001b[0m\u001b[0;31m:\u001b[0m invalid syntax\n"
     ]
    }
   ],
   "source": [
    "# invalid python variables\n",
    "\n",
    "1counter = 100\n",
    "$_count  = 100\n",
    "zara-salary = 100000\n",
    "\n",
    "print (1counter)\n",
    "print ($count)\n",
    "print (zara-salary)"
   ]
  }
 ],
 "metadata": {
  "kernelspec": {
   "display_name": "Python 3",
   "language": "python",
   "name": "python3"
  },
  "language_info": {
   "codemirror_mode": {
    "name": "ipython",
    "version": 3
   },
   "file_extension": ".py",
   "mimetype": "text/x-python",
   "name": "python",
   "nbconvert_exporter": "python",
   "pygments_lexer": "ipython3",
   "version": "3.9.6"
  }
 },
 "nbformat": 4,
 "nbformat_minor": 5
}
